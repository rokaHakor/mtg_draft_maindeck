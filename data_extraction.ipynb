{
 "cells": [
  {
   "cell_type": "code",
   "execution_count": 1,
   "metadata": {
    "pycharm": {
     "is_executing": true,
     "name": "#%%\n"
    }
   },
   "outputs": [],
   "source": [
    "import numpy as np\n",
    "import os\n",
    "import csv\n",
    "from pickle import load, dump"
   ]
  },
  {
   "cell_type": "code",
   "execution_count": 2,
   "metadata": {
    "pycharm": {
     "is_executing": true,
     "name": "#%%\n"
    }
   },
   "outputs": [],
   "source": [
    "with open('game_data_public.STX.PremierDraft.csv', newline='') as f:\n",
    "    reader = csv.reader(f)\n",
    "    data = list(reader)"
   ]
  },
  {
   "cell_type": "code",
   "execution_count": 3,
   "metadata": {
    "pycharm": {
     "is_executing": true,
     "name": "#%%\n"
    }
   },
   "outputs": [],
   "source": [
    "x = 0\n",
    "card_dict = {}\n",
    "card_index = {}\n",
    "drafted_cards = []\n",
    "for index, word in enumerate(data[0]):\n",
    "    if word.startswith('deck_'):\n",
    "        card = word.split(\"deck_\")[1]\n",
    "        print(card)\n",
    "        card_dict[card] = x\n",
    "        card_index[x] = card\n",
    "        x = x + 1\n",
    "        drafted_cards.append(index)\n",
    "    if word.startswith(\"sideboard_\"):\n",
    "        drafted_cards.append(index)\n",
    "print(x)\n",
    "dump(card_dict, open('cardtoindex.pkl', 'wb'))\n",
    "dump(card_index, open('indextocard.pkl', 'wb'))"
   ]
  },
  {
   "cell_type": "code",
   "execution_count": 4,
   "metadata": {},
   "outputs": [],
   "source": [
    "draftID = \"0x\"\n",
    "clean_data = []\n",
    "wins = 0\n",
    "losses = 0\n",
    "for index, value in enumerate(data[1:], 1):\n",
    "    if value[2] != draftID:\n",
    "        draftID = value[2]\n",
    "        wins = 0\n",
    "        losses = 0\n",
    "        draft_data = {}\n",
    "    if value[2] == draftID:\n",
    "        if value[15] == \"True\":\n",
    "            wins = wins + 1\n",
    "        else:\n",
    "            losses = losses + 1\n",
    "        if index == len(data) - 1 or data[index + 1][2] != draftID:\n",
    "            draft_data = {\"DraftID\": draftID}\n",
    "            for c_index in drafted_cards:\n",
    "                if int(value[c_index]) > 0:\n",
    "                    card_name = card_index[(c_index - 702) % 342]\n",
    "                    if card_name == \"Mountain\" or card_name == \"Island\" or card_name == \"Plains\" or card_name == \"Swamp\" or card_name == \"Forest\":\n",
    "                        continue\n",
    "                    if c_index < 1045:\n",
    "                        draft_data[\"main_\" + card_name] = value[c_index]\n",
    "                    if \"draft_\" + card_name in draft_data:\n",
    "                        draft_data[\"draft_\" + card_name] = int(draft_data[\"draft_\" + card_name]) + int(value[c_index])\n",
    "                    else:\n",
    "                        draft_data[\"draft_\" + card_name] = value[c_index]\n",
    "            draft_data[\"Wins\"] = wins\n",
    "            draft_data[\"Losses\"] = losses\n",
    "            clean_data.append(draft_data)"
   ]
  },
  {
   "cell_type": "code",
   "execution_count": 5,
   "metadata": {},
   "outputs": [],
   "source": [
    "winning_data = []\n",
    "for values in clean_data:\n",
    "    if values[\"Wins\"] > 2:\n",
    "        winning_data.append(values)\n",
    "dump(winning_data, open('winning_data.pkl', 'wb'))"
   ]
  },
  {
   "cell_type": "code",
   "execution_count": null,
   "outputs": [],
   "source": [
    "if not os.path.exists(\"data\"):\n",
    "    os.mkdir(\"data\")\n"
   ],
   "metadata": {
    "collapsed": false,
    "pycharm": {
     "name": "#%%\n"
    }
   }
  },
  {
   "cell_type": "code",
   "execution_count": null,
   "outputs": [],
   "source": [
    "def datasetup(draft):\n",
    "    cards = 0\n",
    "    alldrafted = np.zeros(343, np.int8)\n",
    "    maindeck = np.zeros(343, np.int8)\n",
    "    for key, value in draft.items():\n",
    "        if key.startswith(\"main_\"):\n",
    "            cards = cards + int(value)\n",
    "            card = key.split(\"main_\")[1]\n",
    "            maindeck[int(card_dict[card])] = value\n",
    "        if key.startswith(\"draft_\"):\n",
    "            card = key.split(\"draft_\")[1]\n",
    "            alldrafted[int(card_dict[card])] = value\n",
    "    return cards, alldrafted, maindeck"
   ],
   "metadata": {
    "collapsed": false,
    "pycharm": {
     "name": "#%%\n"
    }
   }
  },
  {
   "cell_type": "code",
   "execution_count": null,
   "outputs": [],
   "source": [
    "for index, deck in enumerate(winning_data):\n",
    "    cardcount, alldrafted, removedmain = datasetup(deck)\n",
    "    y = removedmain\n",
    "    X1 = alldrafted\n",
    "    np.save('data/' + str(index) + '.npy', np.array(([X1], [y])))"
   ],
   "metadata": {
    "collapsed": false,
    "pycharm": {
     "name": "#%%\n"
    }
   }
  }
 ],
 "metadata": {
  "kernelspec": {
   "display_name": "Python 3",
   "language": "python",
   "name": "python3"
  },
  "language_info": {
   "codemirror_mode": {
    "name": "ipython",
    "version": 3
   },
   "file_extension": ".py",
   "mimetype": "text/x-python",
   "name": "python",
   "nbconvert_exporter": "python",
   "pygments_lexer": "ipython3",
   "version": "3.8.2"
  }
 },
 "nbformat": 4,
 "nbformat_minor": 1
}