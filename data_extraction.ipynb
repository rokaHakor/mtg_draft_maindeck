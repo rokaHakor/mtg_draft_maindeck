{
 "cells": [
  {
   "cell_type": "code",
   "execution_count": 1,
   "metadata": {
    "pycharm": {
     "is_executing": true,
     "name": "#%%\n"
    }
   },
   "outputs": [],
   "source": [
    "import numpy as np\n",
    "import os\n",
    "import csv\n",
    "from pickle import load, dump"
   ]
  },
  {
   "cell_type": "code",
   "execution_count": 2,
   "metadata": {
    "pycharm": {
     "is_executing": true,
     "name": "#%%\n"
    }
   },
   "outputs": [],
   "source": [
    "with open('game_data_public.STX.PremierDraft.csv', newline='') as f:\n",
    "    reader = csv.reader(f)\n",
    "    data = list(reader)"
   ]
  },
  {
   "cell_type": "code",
   "execution_count": 3,
   "outputs": [],
   "source": [
    "if not os.path.exists(\"data\"):\n",
    "    os.mkdir(\"data\")\n"
   ],
   "metadata": {
    "collapsed": false,
    "pycharm": {
     "name": "#%%\n"
    }
   }
  },
  {
   "cell_type": "code",
   "execution_count": 4,
   "metadata": {
    "pycharm": {
     "is_executing": true,
     "name": "#%%\n"
    }
   },
   "outputs": [
    {
     "output_type": "stream",
     "name": "stdout",
     "text": [
      "Abundant Harvest\nAcademic Dispute\nAcademic Probation\nAccess Tunnel\nAccomplished Alchemist\nAdventurous Impulse\nAether Helix\nAgeless Guardian\nAgonizing Remorse\nApproach of the Second Sun\nArcane Subtraction\nArchmage Emeritus\nArchway Commons\nArdent Dustspeaker\nArrogant Poet\nAugmenter Pugilist\nBaleful Mastery\nBasic Conjuration\nBayou Groff\nBeaming Defiance\nBeledros Witherbloom\nBiblioplex Assistant\nBig Play\nBiomathematician\nBlade Historian\nBlex, Vexing Pest\nBlood Age General\nBlood Researcher\nBlot Out the Sky\nBlue Sun's Zenith\nBody of Research\nBookwurm\nBrackish Trudge\nBrainstorm\nBurrog Befuddler\nBury in Books\nCallous Bloodmage\nCampus Guide\nChannel\nChaos Warp\nCharge Through\nClaim the Firstborn\nClever Lumimancer\nClosing Statement\nCodie, Vociferous Codex\nCogwork Archivist\nCombat Professor\nCompulsive Research\nConfront the Past\nConspiracy Theorist\nContainment Breach\nCounterspell\nCrackle with Power\nCram Session\nCreative Outburst\nCrushing Disappointment\nCrux of Fate\nCulling Ritual\nCulmination of Studies\nCultivate\nCurate\nDaemogoth Titan\nDaemogoth Woe-Eater\nDark Ritual\nDay of Judgment\nDeadly Brew\nDecisive Denial\nDefend the Campus\nDefiant Strike\nDemonic Tutor\nDespark\nDetention Vortex\nDevastating Mastery\nDevouring Tendrils\nDina, Soul Steeper\nDivide by Zero\nDivine Gambit\nDoom Blade\nDouble Major\nDraconic Intervention\nDragon's Approach\nDragonsguard Elite\nDramatic Finale\nDream Strix\nDueling Coach\nDuress\nEager First-Year\nEcological Appreciation\nEfreet Flamepainter\nElectrolyze\nElemental Expressionist\nElemental Masterpiece\nElemental Summoning\nEliminate\nElite Spellbinder\nEmergent Sequence\nEnthusiastic Study\nEnvironmental Sciences\nEphemerate\nEssence Infusion\nEureka Moment\nExcavated Wall\nExhilarating Elocution\nExpanded Anatomy\nExpel\nExplosive Welcome\nExponential Growth\nExpressive Iteration\nExtus, Oriq Overlord\nEyetwitch\nFaithless Looting\nFervent Mastery\nField Trip\nFirst Day of Class\nFlamescroll Celebrant\nFlunk\nForest\nFortifying Draught\nFractal Summoning\nFracture\nFrost Trickster\nFrostboil Snarl\nFuming Effigy\nFurycalm Snarl\nGalazeth Prismari\nGift of Estates\nGnarled Professor\nGo Blank\nGods Willing\nGolden Ratio\nGrapeshot\nGrinning Ignus\nGrowth Spiral\nGuiding Voice\nHall Monitor\nHall of Oracles\nHarmonize\nHarness Infinity\nHeated Debate\nHofri Ghostforge\nHonor Troll\nHumiliate\nHunt for Specimens\nIgneous Inspiration\nIlluminate History\nIllustrious Historian\nIncreasing Vengeance\nInfuriate\nInfuse with Vitality\nIngenious Mastery\nInkling Summoning\nInquisition of Kozilek\nIntroduction to Annihilation\nIntroduction to Prophecy\nIsland\nJadzi, Oracle of Arcavios\nKarok Wrangler\nKasmina, Enigma Sage\nKelpie Guide\nKianne, Dean of Substance\nKillian, Ink Duelist\nKrosan Grip\nLash of Malice\nLeech Fanatic\nLeonin Lightscribe\nLetter of Acceptance\nLeyline Invocation\nLightning Bolt\nLightning Helix\nLorehold Apprentice\nLorehold Campus\nLorehold Command\nLorehold Excavation\nLorehold Pledgemage\nMaelstrom Muse\nMage Duel\nMage Hunter\nMage Hunters' Onslaught\nMagma Opus\nMake Your Mark\nMana Tithe\nManifestation Sage\nMascot Exhibition\nMascot Interception\nMaster Symmetrist\nMavinda, Students' Advocate\nMemory Lapse\nMentor's Guidance\nMercurial Transformation\nMila, Crafty Companion\nMind's Desire\nMizzix's Mastery\nMoldering Karok\nMortality Spear\nMountain\nMultiple Choice\nNatural Order\nNecroblossom Snarl\nNecrotic Fumes\nNeedlethorn Drake\nNegate\nNovice Dissector\nOggyar Battle-Seer\nOpt\nOriq Loremage\nOvergrown Arch\nOwlin Shieldmage\nPest Summoning\nPestilent Cauldron\nPigment Storm\nPilgrim of the Ages\nPillardrop Rescuer\nPillardrop Warden\nPlains\nPlargg, Dean of Chaos\nPlumb the Forbidden\nPoet's Quill\nPop Quiz\nPractical Research\nPrimal Command\nPrismari Apprentice\nPrismari Campus\nPrismari Command\nPrismari Pledgemage\nProfessor Onyx\nProfessor of Symbology\nProfessor of Zoomancy\nProfessor's Warning\nPromising Duskmage\nPutrefy\nQuandrix Apprentice\nQuandrix Campus\nQuandrix Command\nQuandrix Cultivator\nQuandrix Pledgemage\nQuintorius, Field Historian\nRadiant Scrollwielder\nReckless Amplimancer\nReconstruct History\nReduce to Memory\nReflective Golem\nRegrowth\nReject\nRelic Sloth\nResculpt\nRetriever Phoenix\nReturned Pastcaller\nRevitalize\nRip Apart\nRise of Extus\nRootha, Mercurial Artist\nRowan, Scholar of Sparks\nRushed Rebirth\nScurrid Colony\nSecret Rendezvous\nSedgemoor Witch\nSelfless Glyphweaver\nSemester's End\nSerpentine Curve\nShadewing Laureate\nShadrix Silverquill\nShaile, Dean of Radiance\nShineshadow Snarl\nShock\nShow of Confidence\nSign in Blood\nSilverquill Apprentice\nSilverquill Campus\nSilverquill Command\nSilverquill Pledgemage\nSilverquill Silencer\nSnakeskin Veil\nSnow Day\nSolve the Equation\nSoothsayer Adept\nSparring Regimen\nSpectacle Mage\nSpecter of the Fens\nSpell Satchel\nSpined Karok\nSpirit Summoning\nSpiteful Squad\nSpringmane Cervin\nSquare Up\nStar Pupil\nStart from Scratch\nStone Rain\nStonebinder's Familiar\nStonebound Mentor\nStonerise Spirit\nStorm-Kiln Artist\nStrategic Planning\nStrict Proctor\nStrixhaven Stadium\nStudy Break\nSudden Breakthrough\nSwamp\nSwords to Plowshares\nSymmetry Sage\nTainted Pact\nTanazir Quandrix\nTangletrap\nTeach by Example\nTeachings of the Archaics\nTeam Pennant\nTeferi's Protection\nTempted by the Oriq\nTend the Pests\nTendrils of Agony\nTenured Inkcaster\nTest of Talents\nTezzeret's Gambit\nThe Biblioplex\nThrill of Possibility\nThrilling Discovery\nThunderous Orator\nTime Warp\nTome Shredder\nTorrent Sculptor\nTwinscroll Shaman\nUmbral Juke\nUnwilling Ingredient\nUrza's Rage\nUvilda, Dean of Perfection\nValentin, Dean of the Vein\nVanishing Verse\nVelomachus Lorehold\nVenerable Warsinger\nVerdant Mastery\nVillage Rites\nVineglimmer Snarl\nVortex Runner\nWandering Archaic\nWaterfall Aerialist\nWeather the Storm\nWhirlwind Denial\nWitherbloom Apprentice\nWitherbloom Campus\nWitherbloom Command\nWitherbloom Pledgemage\nWormhole Serpent\nZephyr Boots\nZimone, Quandrix Prodigy\n343\n"
     ]
    }
   ],
   "source": [
    "x = 0\n",
    "card_dict = {}\n",
    "card_index = {}\n",
    "drafted_cards = []\n",
    "for index, word in enumerate(data[0]):\n",
    "    if word.startswith('deck_'):\n",
    "        card = word.split(\"deck_\")[1]\n",
    "        print(card)\n",
    "        card_dict[card] = x\n",
    "        card_index[x] = card\n",
    "        x = x + 1\n",
    "        drafted_cards.append(index)\n",
    "    if word.startswith(\"sideboard_\"):\n",
    "        drafted_cards.append(index)\n",
    "print(x)\n",
    "dump(card_dict, open('data/cardtoindex.pkl', 'wb'))\n",
    "dump(card_index, open('data/indextocard.pkl', 'wb'))"
   ]
  },
  {
   "cell_type": "code",
   "execution_count": 5,
   "metadata": {},
   "outputs": [],
   "source": [
    "draftID = \"0x\"\n",
    "clean_data = []\n",
    "wins = 0\n",
    "losses = 0\n",
    "for index, value in enumerate(data[1:], 1):\n",
    "    if value[2] != draftID:\n",
    "        draftID = value[2]\n",
    "        wins = 0\n",
    "        losses = 0\n",
    "        draft_data = {}\n",
    "    if value[2] == draftID:\n",
    "        if value[15] == \"True\":\n",
    "            wins = wins + 1\n",
    "        else:\n",
    "            losses = losses + 1\n",
    "        if index == len(data) - 1 or data[index + 1][2] != draftID:\n",
    "            draft_data = {\"DraftID\": draftID}\n",
    "            for c_index in drafted_cards:\n",
    "                if int(value[c_index]) > 0:\n",
    "                    card_name = card_index[(c_index - 702) % 342]\n",
    "                    if card_name == \"Mountain\" or card_name == \"Island\" or card_name == \"Plains\" or card_name == \"Swamp\" or card_name == \"Forest\":\n",
    "                        continue\n",
    "                    if c_index < 1045:\n",
    "                        draft_data[\"main_\" + card_name] = value[c_index]\n",
    "                    if \"draft_\" + card_name in draft_data:\n",
    "                        draft_data[\"draft_\" + card_name] = int(draft_data[\"draft_\" + card_name]) + int(value[c_index])\n",
    "                    else:\n",
    "                        draft_data[\"draft_\" + card_name] = value[c_index]\n",
    "            draft_data[\"Wins\"] = wins\n",
    "            draft_data[\"Losses\"] = losses\n",
    "            clean_data.append(draft_data)"
   ]
  },
  {
   "cell_type": "code",
   "execution_count": 6,
   "metadata": {},
   "outputs": [],
   "source": [
    "dump(clean_data, open('data/clean_data.pkl', 'wb'))"
   ]
  },
  {
   "cell_type": "code",
   "execution_count": 1,
   "metadata": {},
   "outputs": [
    {
     "output_type": "error",
     "ename": "NameError",
     "evalue": "name 'clean_data' is not defined",
     "traceback": [
      "\u001b[1;31m---------------------------------------------------------------------------\u001b[0m",
      "\u001b[1;31mNameError\u001b[0m                                 Traceback (most recent call last)",
      "\u001b[1;32m<ipython-input-1-1e989dc1e4f0>\u001b[0m in \u001b[0;36m<module>\u001b[1;34m\u001b[0m\n\u001b[0;32m      1\u001b[0m \u001b[0mwinning_data\u001b[0m \u001b[1;33m=\u001b[0m \u001b[1;33m[\u001b[0m\u001b[1;33m]\u001b[0m\u001b[1;33m\u001b[0m\u001b[1;33m\u001b[0m\u001b[0m\n\u001b[1;32m----> 2\u001b[1;33m \u001b[1;32mfor\u001b[0m \u001b[0mvalues\u001b[0m \u001b[1;32min\u001b[0m \u001b[0mclean_data\u001b[0m\u001b[1;33m:\u001b[0m\u001b[1;33m\u001b[0m\u001b[1;33m\u001b[0m\u001b[0m\n\u001b[0m\u001b[0;32m      3\u001b[0m     \u001b[1;32mif\u001b[0m \u001b[0mvalues\u001b[0m\u001b[1;33m[\u001b[0m\u001b[1;34m\"Wins\"\u001b[0m\u001b[1;33m]\u001b[0m \u001b[1;33m>\u001b[0m \u001b[1;36m2\u001b[0m\u001b[1;33m:\u001b[0m\u001b[1;33m\u001b[0m\u001b[1;33m\u001b[0m\u001b[0m\n\u001b[0;32m      4\u001b[0m         \u001b[0mwinning_data\u001b[0m\u001b[1;33m.\u001b[0m\u001b[0mappend\u001b[0m\u001b[1;33m(\u001b[0m\u001b[0mvalues\u001b[0m\u001b[1;33m)\u001b[0m\u001b[1;33m\u001b[0m\u001b[1;33m\u001b[0m\u001b[0m\n\u001b[0;32m      5\u001b[0m \u001b[0mdump\u001b[0m\u001b[1;33m(\u001b[0m\u001b[0mwinning_data\u001b[0m\u001b[1;33m,\u001b[0m \u001b[0mopen\u001b[0m\u001b[1;33m(\u001b[0m\u001b[1;34m'data/winning_data.pkl'\u001b[0m\u001b[1;33m,\u001b[0m \u001b[1;34m'wb'\u001b[0m\u001b[1;33m)\u001b[0m\u001b[1;33m)\u001b[0m\u001b[1;33m\u001b[0m\u001b[1;33m\u001b[0m\u001b[0m\n",
      "\u001b[1;31mNameError\u001b[0m: name 'clean_data' is not defined"
     ]
    }
   ],
   "source": [
    "winning_data = []\n",
    "for values in clean_data:\n",
    "    if values[\"Wins\"] > 2:\n",
    "        winning_data.append(values)\n",
    "dump(winning_data, open('data/winning_data.pkl', 'wb'))"
   ]
  },
  {
   "cell_type": "code",
   "execution_count": 9,
   "outputs": [],
   "source": [
    "def datasetup(draft):\n",
    "    cards = 0\n",
    "    alldrafted = np.zeros(343, np.int8)\n",
    "    maindeck = np.zeros(343, np.int8)\n",
    "    for key, value in draft.items():\n",
    "        if key.startswith(\"main_\"):\n",
    "            cards = cards + int(value)\n",
    "            card = key.split(\"main_\")[1]\n",
    "            maindeck[int(card_dict[card])] = value\n",
    "        if key.startswith(\"draft_\"):\n",
    "            card = key.split(\"draft_\")[1]\n",
    "            alldrafted[int(card_dict[card])] = value\n",
    "    return cards, alldrafted, maindeck"
   ],
   "metadata": {
    "collapsed": false,
    "pycharm": {
     "name": "#%%\n"
    }
   }
  },
  {
   "cell_type": "code",
   "execution_count": 10,
   "outputs": [],
   "source": [
    "for index, deck in enumerate(winning_data): # TODO add weighting based on number of wins\n",
    "    cardcount, alldrafted, removedmain = datasetup(deck)\n",
    "    y = removedmain\n",
    "    X1 = alldrafted\n",
    "    np.save('data/' + str(index) + '.npy', np.array(([X1], [y])))"
   ],
   "metadata": {
    "collapsed": false,
    "pycharm": {
     "name": "#%%\n"
    }
   }
  },
  {
   "cell_type": "code",
   "execution_count": null,
   "metadata": {},
   "outputs": [],
   "source": []
  }
 ],
 "metadata": {
  "kernelspec": {
   "name": "python3",
   "display_name": "Python 3.8.2  ('venv': venv)"
  },
  "language_info": {
   "codemirror_mode": {
    "name": "ipython",
    "version": 3
   },
   "file_extension": ".py",
   "mimetype": "text/x-python",
   "name": "python",
   "nbconvert_exporter": "python",
   "pygments_lexer": "ipython3",
   "version": "3.8.2"
  },
  "interpreter": {
   "hash": "5be7e71d11e17bdda497de2f4bde7f7a5e0bf73a48e19b1dd970d45adec094a2"
  }
 },
 "nbformat": 4,
 "nbformat_minor": 1
}