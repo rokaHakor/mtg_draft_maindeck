{
 "nbformat": 4,
 "nbformat_minor": 0,
 "metadata": {
  "accelerator": "GPU",
  "colab": {
   "name": "Copy of modelling.ipynb",
   "provenance": [
    {
     "file_id": "1V0WkI36ZfPnBnfbYMwOPRMVpz-M46UDI",
     "timestamp": 1623112847842
    }
   ],
   "collapsed_sections": []
  },
  "kernelspec": {
   "display_name": "Python 3",
   "language": "python",
   "name": "python3"
  },
  "language_info": {
   "codemirror_mode": {
    "name": "ipython",
    "version": 3
   },
   "file_extension": ".py",
   "mimetype": "text/x-python",
   "name": "python",
   "nbconvert_exporter": "python",
   "pygments_lexer": "ipython3",
   "version": "3.8.2"
  }
 },
 "cells": [
  {
   "cell_type": "code",
   "metadata": {
    "id": "C_w7ahrlQYhI",
    "executionInfo": {
     "status": "ok",
     "timestamp": 1623299752216,
     "user_tz": 420,
     "elapsed": 2184,
     "user": {
      "displayName": "Irmuun Zamilan",
      "photoUrl": "",
      "userId": "07934676947295100172"
     }
    }
   },
   "source": [
    "import numpy as np\n",
    "from tensorflow import keras\n",
    "from tensorflow.keras import layers as kl\n",
    "import random\n",
    "from pickle import load"
   ],
   "execution_count": 1,
   "outputs": []
  },
  {
   "cell_type": "code",
   "metadata": {
    "id": "19cim11QVF0G",
    "executionInfo": {
     "status": "ok",
     "timestamp": 1623299789079,
     "user_tz": 420,
     "elapsed": 2382,
     "user": {
      "displayName": "Irmuun Zamilan",
      "photoUrl": "",
      "userId": "07934676947295100172"
     }
    }
   },
   "source": [
    "with open('winning_data.pkl', 'rb') as f:\n",
    "    f.seek(0)\n",
    "    winning_data = load(f)\n",
    "with open('indextocard.pkl', 'rb') as f:\n",
    "    f.seek(0)\n",
    "    card_index = load(f)\n",
    "with open('cardtoindex.pkl', 'rb') as f:\n",
    "    f.seek(0)\n",
    "    card_dict = load(f)"
   ],
   "execution_count": 3,
   "outputs": []
  },
  {
   "cell_type": "code",
   "metadata": {
    "colab": {
     "base_uri": "https://localhost:8080/"
    },
    "id": "ZKsQPXesVR9q",
    "executionInfo": {
     "status": "ok",
     "timestamp": 1623299791634,
     "user_tz": 420,
     "elapsed": 21,
     "user": {
      "displayName": "Irmuun Zamilan",
      "photoUrl": "",
      "userId": "07934676947295100172"
     }
    },
    "outputId": "379541c2-0245-4d77-a85f-810455027b58"
   },
   "source": [
    "print(len(winning_data))"
   ],
   "execution_count": 5,
   "outputs": [
    {
     "output_type": "stream",
     "text": [
      "44373\n"
     ],
     "name": "stdout"
    }
   ]
  },
  {
   "cell_type": "code",
   "metadata": {
    "id": "oG1z4m5JVhZn",
    "executionInfo": {
     "status": "ok",
     "timestamp": 1623299793095,
     "user_tz": 420,
     "elapsed": 155,
     "user": {
      "displayName": "Irmuun Zamilan",
      "photoUrl": "",
      "userId": "07934676947295100172"
     }
    }
   },
   "source": [
    "def datasetup(draft):\n",
    "    cards = 0\n",
    "    alldrafted = np.zeros(343, np.int8)\n",
    "    maindeck = np.zeros(343, np.int8)\n",
    "    for key,value in draft.items():\n",
    "        if key.startswith(\"main_\"):\n",
    "            cards = cards + int(value)\n",
    "            card = key.split(\"main_\")[1]\n",
    "            maindeck[int(card_dict[card])] = value\n",
    "        if key.startswith(\"draft_\"):\n",
    "            card = key.split(\"draft_\")[1]\n",
    "            alldrafted[int(card_dict[card])] = value\n",
    "    return cards, alldrafted, maindeck"
   ],
   "execution_count": 6,
   "outputs": []
  },
  {
   "cell_type": "code",
   "metadata": {
    "id": "VE3qhoesVjg3",
    "executionInfo": {
     "status": "ok",
     "timestamp": 1623299794616,
     "user_tz": 420,
     "elapsed": 353,
     "user": {
      "displayName": "Irmuun Zamilan",
      "photoUrl": "",
      "userId": "07934676947295100172"
     }
    }
   },
   "source": [
    "def getremovedcards(deck, draft):\n",
    "    removedlist = []\n",
    "    draftlist = []\n",
    "    for index, value in enumerate(deck):\n",
    "        for i in range(0, value):\n",
    "            array = np.zeros(343, np.int8)\n",
    "            array[index] = 1\n",
    "            removedlist.append(array)\n",
    "            draftlist.append(draft)\n",
    "    removedlist = np.array(removedlist) \n",
    "    draftlist = np.array(draftlist) \n",
    "    return removedlist, draftlist"
   ],
   "execution_count": 7,
   "outputs": []
  },
  {
   "cell_type": "code",
   "metadata": {
    "id": "5nobjhDfDSTA",
    "executionInfo": {
     "status": "ok",
     "timestamp": 1623299795942,
     "user_tz": 420,
     "elapsed": 203,
     "user": {
      "displayName": "Irmuun Zamilan",
      "photoUrl": "",
      "userId": "07934676947295100172"
     }
    }
   },
   "source": [
    "def removerandomcards(deck):\n",
    "  copy_deck = np.zeros(343)\n",
    "  for index, value in enumerate(deck):\n",
    "    if value > 0 and random.random() > 0.25:\n",
    "      copy_deck[index] = copy_deck[index] + random.randint(0, value)\n",
    "  return copy_deck"
   ],
   "execution_count": 8,
   "outputs": []
  },
  {
   "cell_type": "code",
   "metadata": {
    "id": "-LwRTdnqbB6h",
    "executionInfo": {
     "status": "ok",
     "timestamp": 1623299797367,
     "user_tz": 420,
     "elapsed": 165,
     "user": {
      "displayName": "Irmuun Zamilan",
      "photoUrl": "",
      "userId": "07934676947295100172"
     }
    }
   },
   "source": [
    "def printcards(deck):\n",
    "    for index, card in enumerate(deck):\n",
    "        if card > 0:\n",
    "            print(card_index[index] + \", \" + str(card))"
   ],
   "execution_count": 9,
   "outputs": []
  },
  {
   "cell_type": "code",
   "metadata": {
    "id": "vv1uty-xgJDn",
    "executionInfo": {
     "status": "ok",
     "timestamp": 1623299798282,
     "user_tz": 420,
     "elapsed": 4,
     "user": {
      "displayName": "Irmuun Zamilan",
      "photoUrl": "",
      "userId": "07934676947295100172"
     }
    }
   },
   "source": [
    "def specialround(deck, draft):\n",
    "  copydeck = deck.copy()\n",
    "  for index, value in enumerate(copydeck):\n",
    "    if value < 0.5:\n",
    "      copydeck[index] = 0\n",
    "    else:\n",
    "      copydeck[index] = min(np.ceil(value), draft[index])\n",
    "  return copydeck"
   ],
   "execution_count": 10,
   "outputs": []
  },
  {
   "cell_type": "code",
   "metadata": {
    "id": "Unhwm5bPfUwt",
    "executionInfo": {
     "status": "ok",
     "timestamp": 1623299799513,
     "user_tz": 420,
     "elapsed": 175,
     "user": {
      "displayName": "Irmuun Zamilan",
      "photoUrl": "",
      "userId": "07934676947295100172"
     }
    }
   },
   "source": [
    "def totalcards(deck):\n",
    "  x = 0\n",
    "  for i in deck:\n",
    "    x += i\n",
    "  return x"
   ],
   "execution_count": 11,
   "outputs": []
  },
  {
   "cell_type": "code",
   "metadata": {
    "id": "fRtOqCrS5i-H",
    "executionInfo": {
     "status": "ok",
     "timestamp": 1623299800683,
     "user_tz": 420,
     "elapsed": 211,
     "user": {
      "displayName": "Irmuun Zamilan",
      "photoUrl": "",
      "userId": "07934676947295100172"
     }
    }
   },
   "source": [
    "def calcaccuracy(pred, main):\n",
    "  diff = 0\n",
    "  total = 0\n",
    "  for index, value in enumerate(pred):\n",
    "    if value != main[index]:\n",
    "      diff += abs(value - main[index])\n",
    "    total += main[index]\n",
    "  return 1 - diff/total"
   ],
   "execution_count": 12,
   "outputs": []
  },
  {
   "cell_type": "code",
   "metadata": {
    "id": "S7KvTCf6dHho",
    "executionInfo": {
     "status": "ok",
     "timestamp": 1623299801471,
     "user_tz": 420,
     "elapsed": 12,
     "user": {
      "displayName": "Irmuun Zamilan",
      "photoUrl": "",
      "userId": "07934676947295100172"
     }
    }
   },
   "source": [
    "def exporttodraft(deckexport):\n",
    "  draft = np.zeros(343)\n",
    "  maindeck = np.zeros(343)\n",
    "  includemain = True\n",
    "  for index, value in enumerate(deckexport):\n",
    "    if value.startswith('Sideboard'):\n",
    "      includemain = False\n",
    "    split = value.split(\" \", 1)\n",
    "    if len(split) == 2:\n",
    "      name = split[1].split(\"(\", 1)\n",
    "      card_name = name[0].strip()\n",
    "      if card_name == \"Mountain\" or card_name == \"Island\" or card_name == \"Plains\" or card_name == \"Swamp\" or card_name == \"Forest\":\n",
    "        continue\n",
    "      cardindex = card_dict[card_name]\n",
    "      draft[cardindex] = draft[cardindex] + int(split[0])\n",
    "      if includemain:\n",
    "        maindeck[cardindex] = maindeck[cardindex] + int(split[0])\n",
    "  return draft, maindeck"
   ],
   "execution_count": 13,
   "outputs": []
  },
  {
   "cell_type": "code",
   "metadata": {
    "colab": {
     "base_uri": "https://localhost:8080/"
    },
    "id": "egSUyZqManDU",
    "executionInfo": {
     "status": "ok",
     "timestamp": 1623299805673,
     "user_tz": 420,
     "elapsed": 246,
     "user": {
      "displayName": "Irmuun Zamilan",
      "photoUrl": "",
      "userId": "07934676947295100172"
     }
    },
    "outputId": "38de71fc-6788-4ee1-a583-a7e5e0ac6f28"
   },
   "source": [
    "cardcount, alldrafted, removedmain = datasetup(winning_data[1])\n",
    "remo = removerandomcards(removedmain)\n",
    "printcards(remo)\n",
    "print(\"---------------\")\n",
    "printcards(removedmain)\n",
    "print(removedmain.shape)\n",
    "concat = np.concatenate((removedmain, remo))\n",
    "print(concat.shape)"
   ],
   "execution_count": 14,
   "outputs": [
    {
     "output_type": "stream",
     "text": [
      "Closing Statement, 1.0\n",
      "Dramatic Finale, 1.0\n",
      "Extus, Oriq Overlord, 1.0\n",
      "Hall of Oracles, 1.0\n",
      "Hunt for Specimens, 1.0\n",
      "Rise of Extus, 1.0\n",
      "Silverquill Apprentice, 1.0\n",
      "Silverquill Pledgemage, 1.0\n",
      "Stonerise Spirit, 1.0\n",
      "Tenured Inkcaster, 1.0\n",
      "Unwilling Ingredient, 1.0\n",
      "---------------\n",
      "Closing Statement, 1\n",
      "Combat Professor, 1\n",
      "Dramatic Finale, 1\n",
      "Extus, Oriq Overlord, 1\n",
      "Eyetwitch, 1\n",
      "Hall of Oracles, 1\n",
      "Hunt for Specimens, 1\n",
      "Owlin Shieldmage, 1\n",
      "Rise of Extus, 3\n",
      "Silverquill Apprentice, 1\n",
      "Silverquill Campus, 1\n",
      "Silverquill Pledgemage, 1\n",
      "Star Pupil, 5\n",
      "Stonerise Spirit, 2\n",
      "Study Break, 1\n",
      "Tenured Inkcaster, 2\n",
      "Unwilling Ingredient, 1\n",
      "(343,)\n",
      "(686,)\n"
     ],
     "name": "stdout"
    }
   ]
  },
  {
   "cell_type": "code",
   "metadata": {
    "colab": {
     "base_uri": "https://localhost:8080/",
     "height": 305
    },
    "id": "yIkZSb9UVNlD",
    "executionInfo": {
     "status": "error",
     "timestamp": 1623299812674,
     "user_tz": 420,
     "elapsed": 306,
     "user": {
      "displayName": "Irmuun Zamilan",
      "photoUrl": "",
      "userId": "07934676947295100172"
     }
    },
    "outputId": "9914b282-e1f1-49c6-c5f2-c9bea174bdde"
   },
   "source": [
    "npp = np.load('data/' + str(1) + '.npy')\n",
    "print(npp[1][0])"
   ],
   "execution_count": 15,
   "outputs": [
    {
     "output_type": "error",
     "ename": "FileNotFoundError",
     "evalue": "ignored",
     "traceback": [
      "\u001B[0;31m---------------------------------------------------------------------------\u001B[0m",
      "\u001B[0;31mFileNotFoundError\u001B[0m                         Traceback (most recent call last)",
      "\u001B[0;32m<ipython-input-15-548ba7ba780a>\u001B[0m in \u001B[0;36m<module>\u001B[0;34m()\u001B[0m\n\u001B[0;32m----> 1\u001B[0;31m \u001B[0mnpp\u001B[0m \u001B[0;34m=\u001B[0m \u001B[0mnp\u001B[0m\u001B[0;34m.\u001B[0m\u001B[0mload\u001B[0m\u001B[0;34m(\u001B[0m\u001B[0;34m'data/'\u001B[0m \u001B[0;34m+\u001B[0m \u001B[0mstr\u001B[0m\u001B[0;34m(\u001B[0m\u001B[0;36m1\u001B[0m\u001B[0;34m)\u001B[0m \u001B[0;34m+\u001B[0m \u001B[0;34m'.npy'\u001B[0m\u001B[0;34m)\u001B[0m\u001B[0;34m\u001B[0m\u001B[0;34m\u001B[0m\u001B[0m\n\u001B[0m\u001B[1;32m      2\u001B[0m \u001B[0mprint\u001B[0m\u001B[0;34m(\u001B[0m\u001B[0mnpp\u001B[0m\u001B[0;34m[\u001B[0m\u001B[0;36m1\u001B[0m\u001B[0;34m]\u001B[0m\u001B[0;34m[\u001B[0m\u001B[0;36m0\u001B[0m\u001B[0;34m]\u001B[0m\u001B[0;34m)\u001B[0m\u001B[0;34m\u001B[0m\u001B[0;34m\u001B[0m\u001B[0m\n",
      "\u001B[0;32m/usr/local/lib/python3.7/dist-packages/numpy/lib/npyio.py\u001B[0m in \u001B[0;36mload\u001B[0;34m(file, mmap_mode, allow_pickle, fix_imports, encoding)\u001B[0m\n\u001B[1;32m    414\u001B[0m             \u001B[0mown_fid\u001B[0m \u001B[0;34m=\u001B[0m \u001B[0;32mFalse\u001B[0m\u001B[0;34m\u001B[0m\u001B[0;34m\u001B[0m\u001B[0m\n\u001B[1;32m    415\u001B[0m         \u001B[0;32melse\u001B[0m\u001B[0;34m:\u001B[0m\u001B[0;34m\u001B[0m\u001B[0;34m\u001B[0m\u001B[0m\n\u001B[0;32m--> 416\u001B[0;31m             \u001B[0mfid\u001B[0m \u001B[0;34m=\u001B[0m \u001B[0mstack\u001B[0m\u001B[0;34m.\u001B[0m\u001B[0menter_context\u001B[0m\u001B[0;34m(\u001B[0m\u001B[0mopen\u001B[0m\u001B[0;34m(\u001B[0m\u001B[0mos_fspath\u001B[0m\u001B[0;34m(\u001B[0m\u001B[0mfile\u001B[0m\u001B[0;34m)\u001B[0m\u001B[0;34m,\u001B[0m \u001B[0;34m\"rb\"\u001B[0m\u001B[0;34m)\u001B[0m\u001B[0;34m)\u001B[0m\u001B[0;34m\u001B[0m\u001B[0;34m\u001B[0m\u001B[0m\n\u001B[0m\u001B[1;32m    417\u001B[0m             \u001B[0mown_fid\u001B[0m \u001B[0;34m=\u001B[0m \u001B[0;32mTrue\u001B[0m\u001B[0;34m\u001B[0m\u001B[0;34m\u001B[0m\u001B[0m\n\u001B[1;32m    418\u001B[0m \u001B[0;34m\u001B[0m\u001B[0m\n",
      "\u001B[0;31mFileNotFoundError\u001B[0m: [Errno 2] No such file or directory: 'data/1.npy'"
     ]
    }
   ]
  },
  {
   "cell_type": "code",
   "metadata": {
    "id": "1i1x4_RPQYhR"
   },
   "source": [
    "class DataGenerator(keras.utils.Sequence):\n",
    "    \"\"\"Generates data for Keras\"\"\"\n",
    "\n",
    "    def __init__(self, start, end, batch_size, shuffle=False):\n",
    "        \"\"\"Initialization\"\"\"\n",
    "        self.data_indexes = np.arange(start, end)\n",
    "        self.shuffle = shuffle\n",
    "        self.batch_size = batch_size\n",
    "        self.on_epoch_end()\n",
    "\n",
    "    def __len__(self):\n",
    "        \"\"\"Denotes the number of batches per epoch\"\"\"\n",
    "        return int(np.floor(len(self.data_indexes) / self.batch_size))\n",
    "\n",
    "    def __getitem__(self, index):\n",
    "        \"\"\"Generate one batch of data\"\"\"\n",
    "        # Generate indexes of the batch\n",
    "        indexes = self.data_indexes[index*self.batch_size:(index+1)*self.batch_size]\n",
    "\n",
    "        X = np.empty((self.batch_size, 686))\n",
    "        y = np.empty((self.batch_size, 343))\n",
    "\n",
    "        # Generate data\n",
    "        for i, ID in enumerate(indexes):\n",
    "            npp = np.load('data/' + str(ID) + '.npy')\n",
    "            y[i] = npp[1][0]\n",
    "            remo = removerandomcards(npp[1][0])\n",
    "            concat = np.concatenate((npp[0][0], remo))\n",
    "            X[i] = concat\n",
    "\n",
    "        return X, y\n",
    "\n",
    "    def on_epoch_end(self):\n",
    "        \"\"\"Updates indexes after each epoch\"\"\"\n",
    "        if self.shuffle:\n",
    "            np.random.shuffle(self.data_indexes)"
   ],
   "execution_count": null,
   "outputs": []
  },
  {
   "cell_type": "code",
   "metadata": {
    "colab": {
     "base_uri": "https://localhost:8080/"
    },
    "id": "on8fRuQYQYh4",
    "outputId": "c2ee9dba-2715-4814-c83f-e0be3a8b9dfd"
   },
   "source": [
    "model = keras.Sequential()\n",
    "\n",
    "model.add(kl.Dense(343, input_shape=(686, ), activation = 'relu'))\n",
    "model.add(kl.BatchNormalization())\n",
    "model.add(kl.Dense(343, activation = 'relu'))\n",
    "model.add(kl.BatchNormalization())\n",
    "model.add(kl.Dense(343, activation = 'relu'))\n",
    "model.add(kl.BatchNormalization())\n",
    "model.add(kl.Dense(343, activation = 'relu'))\n",
    "model.add(kl.BatchNormalization())\n",
    "model.add(kl.Dense(343, activation = 'relu'))\n",
    "model.add(kl.BatchNormalization())\n",
    "model.add(kl.Dense(343, activation = 'relu'))\n",
    "model.add(kl.BatchNormalization())\n",
    "model.add(kl.Dense(343, activation = 'relu'))\n",
    "\n",
    "model = keras.models.load_model(\"MainDeckModel.h5\")\n",
    "\n",
    "print(model.summary(90))\n",
    "\n",
    "metric = keras.metrics.MeanAbsoluteError(name=\"mean_absolute_error\", dtype=None)\n",
    "model.compile(loss='mean_squared_error',\n",
    "              optimizer='adam', metrics=[metric])\n",
    "\n",
    "data_gen = DataGenerator(0, 38400, 8, shuffle=True)\n",
    "valid_gen = DataGenerator(38400, 44373, 32)\n",
    "\n",
    "my_callbacks = [\n",
    "    keras.callbacks.EarlyStopping(patience=5),\n",
    "    keras.callbacks.ModelCheckpoint(filepath=\"MainDeckModel.h5\",\n",
    "                                    save_best_only=True),\n",
    "]\n",
    "\n",
    "model.fit(data_gen, steps_per_epoch=4800, epochs=100, validation_data=valid_gen, validation_steps=186,\n",
    "          callbacks=my_callbacks, shuffle=False, use_multiprocessing=True,\n",
    "          workers=4)"
   ],
   "execution_count": null,
   "outputs": [
    {
     "output_type": "stream",
     "text": [
      "Model: \"sequential\"\n",
      "__________________________________________________________________________________________\n",
      "Layer (type)                            Output Shape                        Param #       \n",
      "==========================================================================================\n",
      "dense (Dense)                           (None, 343)                         235641        \n",
      "__________________________________________________________________________________________\n",
      "dense_1 (Dense)                         (None, 343)                         117992        \n",
      "__________________________________________________________________________________________\n",
      "dense_2 (Dense)                         (None, 343)                         117992        \n",
      "__________________________________________________________________________________________\n",
      "dense_3 (Dense)                         (None, 343)                         117992        \n",
      "__________________________________________________________________________________________\n",
      "dense_4 (Dense)                         (None, 343)                         117992        \n",
      "__________________________________________________________________________________________\n",
      "dense_5 (Dense)                         (None, 343)                         117992        \n",
      "==========================================================================================\n",
      "Total params: 825,601\n",
      "Trainable params: 825,601\n",
      "Non-trainable params: 0\n",
      "__________________________________________________________________________________________\n",
      "None\n",
      "Epoch 1/100\n",
      " 360/4800 [=>............................] - ETA: 41s - loss: 0.0366 - mean_absolute_error: 0.0397"
     ],
     "name": "stdout"
    }
   ]
  },
  {
   "cell_type": "code",
   "metadata": {
    "id": "EA0kLyjMe7GN"
   },
   "source": [
    "model = keras.models.load_model(\"MainDeckModel30-0218.h5\")\n",
    "valid_gen = DataGenerator(38400, 44373, 32)\n",
    "result = model.predict(valid_gen)"
   ],
   "execution_count": null,
   "outputs": []
  },
  {
   "cell_type": "code",
   "metadata": {
    "colab": {
     "base_uri": "https://localhost:8080/"
    },
    "id": "_t3uxcv69KW6",
    "executionInfo": {
     "status": "ok",
     "timestamp": 1623294360164,
     "user_tz": 420,
     "elapsed": 6984,
     "user": {
      "displayName": "Irmuun Zamilan",
      "photoUrl": "",
      "userId": "07934676947295100172"
     }
    },
    "outputId": "8086d3a9-cade-4a17-e845-cc8213af8bc1"
   },
   "source": [
    "totalacc = 0\n",
    "for index, value in enumerate(result):\n",
    "  nppp = np.load('data/' + str(index + 38400) + '.npy')\n",
    "  totalacc += calcaccuracy(specialround(value, nppp[0][0]), nppp[1][0])\n",
    "print(totalacc/len(result))"
   ],
   "execution_count": null,
   "outputs": [
    {
     "output_type": "stream",
     "text": [
      "0.5533019359393402\n"
     ],
     "name": "stdout"
    }
   ]
  },
  {
   "cell_type": "code",
   "metadata": {
    "id": "Rtywp1vwcG9p",
    "executionInfo": {
     "status": "ok",
     "timestamp": 1623300179245,
     "user_tz": 420,
     "elapsed": 478,
     "user": {
      "displayName": "Irmuun Zamilan",
      "photoUrl": "",
      "userId": "07934676947295100172"
     }
    }
   },
   "source": [
    "f = open(\"testdeck.txt\", \"r\")\n",
    "deckexport = f.readlines()\n",
    "draft, maindeck = exporttodraft(deckexport)\n",
    "realmodel = keras.models.load_model(\"MainDeckModelFinal.h5\")\n",
    "realtest = realmodel.predict(np.array([draft]))"
   ],
   "execution_count": 19,
   "outputs": []
  },
  {
   "cell_type": "code",
   "metadata": {
    "colab": {
     "base_uri": "https://localhost:8080/"
    },
    "id": "vgrBeVS1jK5m",
    "executionInfo": {
     "status": "ok",
     "timestamp": 1623300181286,
     "user_tz": 420,
     "elapsed": 209,
     "user": {
      "displayName": "Irmuun Zamilan",
      "photoUrl": "",
      "userId": "07934676947295100172"
     }
    },
    "outputId": "f5837f80-e86b-44dc-e693-d25398c00025"
   },
   "source": [
    "preddeck = specialround(realtest[0], draft)\n",
    "printcards(draft)\n",
    "print(\"----- Predicted Deck: Cards \" + str(totalcards(preddeck)))\n",
    "printcards(preddeck)\n",
    "print(\"----- Main Deck: Cards \" + str(totalcards(maindeck)))\n",
    "printcards(maindeck)\n",
    "print(calcaccuracy(preddeck, maindeck))"
   ],
   "execution_count": 20,
   "outputs": [
    {
     "output_type": "stream",
     "text": [
      "Ageless Guardian, 2.0\n",
      "Blood Age General, 2.0\n",
      "Cogwork Archivist, 1.0\n",
      "Curate, 1.0\n",
      "Defend the Campus, 2.0\n",
      "Defiant Strike, 1.0\n",
      "Divine Gambit, 1.0\n",
      "Dragon's Approach, 1.0\n",
      "Dueling Coach, 2.0\n",
      "Exhilarating Elocution, 1.0\n",
      "Expel, 1.0\n",
      "Fuming Effigy, 1.0\n",
      "Golden Ratio, 1.0\n",
      "Guiding Voice, 1.0\n",
      "Heated Debate, 2.0\n",
      "Introduction to Prophecy, 1.0\n",
      "Lorehold Apprentice, 1.0\n",
      "Lorehold Campus, 1.0\n",
      "Lorehold Excavation, 1.0\n",
      "Make Your Mark, 1.0\n",
      "Pigment Storm, 3.0\n",
      "Quintorius, Field Historian, 1.0\n",
      "Rip Apart, 1.0\n",
      "Show of Confidence, 1.0\n",
      "Solve the Equation, 1.0\n",
      "Soothsayer Adept, 1.0\n",
      "Spined Karok, 1.0\n",
      "Star Pupil, 1.0\n",
      "Stonerise Spirit, 2.0\n",
      "Storm-Kiln Artist, 1.0\n",
      "Strategic Planning, 1.0\n",
      "Study Break, 1.0\n",
      "Team Pennant, 1.0\n",
      "Thrilling Discovery, 1.0\n",
      "Tome Shredder, 2.0\n",
      "Waterfall Aerialist, 1.0\n",
      "----- Predicted Deck: Cards 27.0\n",
      "Ageless Guardian, 2.0\n",
      "Blood Age General, 2.0\n",
      "Defend the Campus, 2.0\n",
      "Divine Gambit, 1.0\n",
      "Dueling Coach, 2.0\n",
      "Fuming Effigy, 1.0\n",
      "Guiding Voice, 1.0\n",
      "Heated Debate, 2.0\n",
      "Lorehold Excavation, 1.0\n",
      "Make Your Mark, 1.0\n",
      "Pigment Storm, 3.0\n",
      "Quintorius, Field Historian, 1.0\n",
      "Show of Confidence, 1.0\n",
      "Stonerise Spirit, 2.0\n",
      "Storm-Kiln Artist, 1.0\n",
      "Study Break, 1.0\n",
      "Thrilling Discovery, 1.0\n",
      "Tome Shredder, 2.0\n",
      "----- Main Deck: Cards 10.0\n",
      "Blood Age General, 2.0\n",
      "Lorehold Apprentice, 1.0\n",
      "Lorehold Campus, 1.0\n",
      "Pigment Storm, 3.0\n",
      "Quintorius, Field Historian, 1.0\n",
      "Stonerise Spirit, 2.0\n",
      "-1.1\n"
     ],
     "name": "stdout"
    }
   ]
  },
  {
   "cell_type": "code",
   "metadata": {
    "colab": {
     "base_uri": "https://localhost:8080/"
    },
    "id": "6UNsrrynns0i",
    "executionInfo": {
     "status": "ok",
     "timestamp": 1623300204652,
     "user_tz": 420,
     "elapsed": 1930,
     "user": {
      "displayName": "Irmuun Zamilan",
      "photoUrl": "",
      "userId": "07934676947295100172"
     }
    },
    "outputId": "1cbe81c9-55f9-4e74-9af0-92a27f45b453"
   },
   "source": [
    "model = keras.models.load_model(\"MainDeckModel30-0218.h5\")\n",
    "concat = np.concatenate((draft, maindeck))\n",
    "testing = model.predict(np.array([concat]))\n",
    "preddeck = specialround(testing[0], draft)\n",
    "printcards(draft)\n",
    "print(\"----- Predicted Deck: Cards \" + str(totalcards(preddeck)))\n",
    "printcards(preddeck)\n",
    "print(\"----- Main Deck: Cards \" + str(totalcards(maindeck)))\n",
    "printcards(maindeck)\n",
    "print(calcaccuracy(preddeck, maindeck))"
   ],
   "execution_count": 21,
   "outputs": [
    {
     "output_type": "stream",
     "text": [
      "Ageless Guardian, 2.0\n",
      "Blood Age General, 2.0\n",
      "Cogwork Archivist, 1.0\n",
      "Curate, 1.0\n",
      "Defend the Campus, 2.0\n",
      "Defiant Strike, 1.0\n",
      "Divine Gambit, 1.0\n",
      "Dragon's Approach, 1.0\n",
      "Dueling Coach, 2.0\n",
      "Exhilarating Elocution, 1.0\n",
      "Expel, 1.0\n",
      "Fuming Effigy, 1.0\n",
      "Golden Ratio, 1.0\n",
      "Guiding Voice, 1.0\n",
      "Heated Debate, 2.0\n",
      "Introduction to Prophecy, 1.0\n",
      "Lorehold Apprentice, 1.0\n",
      "Lorehold Campus, 1.0\n",
      "Lorehold Excavation, 1.0\n",
      "Make Your Mark, 1.0\n",
      "Pigment Storm, 3.0\n",
      "Quintorius, Field Historian, 1.0\n",
      "Rip Apart, 1.0\n",
      "Show of Confidence, 1.0\n",
      "Solve the Equation, 1.0\n",
      "Soothsayer Adept, 1.0\n",
      "Spined Karok, 1.0\n",
      "Star Pupil, 1.0\n",
      "Stonerise Spirit, 2.0\n",
      "Storm-Kiln Artist, 1.0\n",
      "Strategic Planning, 1.0\n",
      "Study Break, 1.0\n",
      "Team Pennant, 1.0\n",
      "Thrilling Discovery, 1.0\n",
      "Tome Shredder, 2.0\n",
      "Waterfall Aerialist, 1.0\n",
      "----- Predicted Deck: Cards 26.0\n",
      "Ageless Guardian, 2.0\n",
      "Blood Age General, 2.0\n",
      "Cogwork Archivist, 1.0\n",
      "Defend the Campus, 1.0\n",
      "Divine Gambit, 1.0\n",
      "Dueling Coach, 2.0\n",
      "Fuming Effigy, 1.0\n",
      "Guiding Voice, 1.0\n",
      "Heated Debate, 2.0\n",
      "Lorehold Apprentice, 1.0\n",
      "Lorehold Campus, 1.0\n",
      "Make Your Mark, 1.0\n",
      "Pigment Storm, 3.0\n",
      "Quintorius, Field Historian, 1.0\n",
      "Show of Confidence, 1.0\n",
      "Stonerise Spirit, 2.0\n",
      "Study Break, 1.0\n",
      "Tome Shredder, 2.0\n",
      "----- Main Deck: Cards 10.0\n",
      "Blood Age General, 2.0\n",
      "Lorehold Apprentice, 1.0\n",
      "Lorehold Campus, 1.0\n",
      "Pigment Storm, 3.0\n",
      "Quintorius, Field Historian, 1.0\n",
      "Stonerise Spirit, 2.0\n",
      "-0.6000000000000001\n"
     ],
     "name": "stdout"
    }
   ]
  },
  {
   "cell_type": "code",
   "metadata": {
    "id": "yxGnsqqRQn0G"
   },
   "source": [
    "npp = np.load('data/' + str(44004) + '.npy')\n",
    "remo = np.zeros(343)\n",
    "concat = np.concatenate((npp[0][0], remo))\n",
    "testing = model.predict(np.array([concat]))"
   ],
   "execution_count": null,
   "outputs": []
  },
  {
   "cell_type": "code",
   "metadata": {
    "id": "AtTruxemX0fn"
   },
   "source": [
    "printcards(remo)"
   ],
   "execution_count": null,
   "outputs": []
  },
  {
   "cell_type": "code",
   "metadata": {
    "colab": {
     "base_uri": "https://localhost:8080/"
    },
    "id": "IUPCHaAgfxv4",
    "executionInfo": {
     "status": "ok",
     "timestamp": 1623219528501,
     "user_tz": 420,
     "elapsed": 184,
     "user": {
      "displayName": "Irmuun Zamilan",
      "photoUrl": "",
      "userId": "07934676947295100172"
     }
    },
    "outputId": "0b685277-e2ba-41e7-fb48-66ae33850847"
   },
   "source": [
    "preddeck = specialround(testing[0], npp[0][0])\n",
    "printcards(npp[0][0])\n",
    "print(totalcards(preddeck))\n",
    "printcards(preddeck)\n",
    "printcards(npp[1][0])\n",
    "print(calcaccuracy(preddeck, npp[1][0]))"
   ],
   "execution_count": null,
   "outputs": [
    {
     "output_type": "stream",
     "text": [
      "Academic Dispute, 1\n",
      "Aether Helix, 1\n",
      "Arcane Subtraction, 1\n",
      "Bury in Books, 4\n",
      "Claim the Firstborn, 1\n",
      "Crux of Fate, 1\n",
      "Cultivate, 1\n",
      "Elemental Masterpiece, 1\n",
      "Eliminate, 1\n",
      "Ephemerate, 1\n",
      "Exhilarating Elocution, 1\n",
      "Expel, 1\n",
      "Exponential Growth, 1\n",
      "Field Trip, 2\n",
      "Furycalm Snarl, 1\n",
      "Hall of Oracles, 1\n",
      "Ingenious Mastery, 1\n",
      "Inquisition of Kozilek, 1\n",
      "Introduction to Prophecy, 1\n",
      "Leyline Invocation, 1\n",
      "Mortality Spear, 1\n",
      "Prismari Pledgemage, 1\n",
      "Professor Onyx, 1\n",
      "Quandrix Apprentice, 1\n",
      "Quandrix Campus, 1\n",
      "Quandrix Cultivator, 1\n",
      "Reckless Amplimancer, 1\n",
      "Reflective Golem, 1\n",
      "Relic Sloth, 1\n",
      "Scurrid Colony, 1\n",
      "Silverquill Command, 1\n",
      "Snakeskin Veil, 1\n",
      "Soothsayer Adept, 1\n",
      "Sparring Regimen, 1\n",
      "Square Up, 1\n",
      "Star Pupil, 1\n",
      "Storm-Kiln Artist, 1\n",
      "Tempted by the Oriq, 1\n",
      "Velomachus Lorehold, 1\n",
      "Vortex Runner, 1\n",
      "Waterfall Aerialist, 1\n",
      "21.0\n",
      "Academic Dispute, 1.0\n",
      "Aether Helix, 1.0\n",
      "Arcane Subtraction, 1.0\n",
      "Bury in Books, 3.0\n",
      "Cultivate, 1.0\n",
      "Elemental Masterpiece, 1.0\n",
      "Field Trip, 2.0\n",
      "Leyline Invocation, 1.0\n",
      "Prismari Pledgemage, 1.0\n",
      "Quandrix Campus, 1.0\n",
      "Quandrix Cultivator, 1.0\n",
      "Reckless Amplimancer, 1.0\n",
      "Scurrid Colony, 1.0\n",
      "Snakeskin Veil, 1.0\n",
      "Tempted by the Oriq, 1.0\n",
      "Velomachus Lorehold, 1.0\n",
      "Vortex Runner, 1.0\n",
      "Waterfall Aerialist, 1.0\n",
      "Academic Dispute, 1\n",
      "Aether Helix, 1\n",
      "Arcane Subtraction, 1\n",
      "Bury in Books, 2\n",
      "Cultivate, 1\n",
      "Elemental Masterpiece, 1\n",
      "Exponential Growth, 1\n",
      "Field Trip, 2\n",
      "Hall of Oracles, 1\n",
      "Ingenious Mastery, 1\n",
      "Leyline Invocation, 1\n",
      "Prismari Pledgemage, 1\n",
      "Quandrix Apprentice, 1\n",
      "Quandrix Campus, 1\n",
      "Quandrix Cultivator, 1\n",
      "Reckless Amplimancer, 1\n",
      "Reflective Golem, 1\n",
      "Scurrid Colony, 1\n",
      "Snakeskin Veil, 1\n",
      "Soothsayer Adept, 1\n",
      "Tempted by the Oriq, 1\n",
      "Vortex Runner, 1\n",
      "Waterfall Aerialist, 1\n",
      "0.6799999999999999\n"
     ],
     "name": "stdout"
    }
   ]
  }
 ]
}