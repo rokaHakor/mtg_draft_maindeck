{
 "nbformat": 4,
 "nbformat_minor": 0,
 "metadata": {
  "accelerator": "GPU",
  "colab": {
   "name": "Copy of modelling.ipynb",
   "provenance": [
    {
     "file_id": "1V0WkI36ZfPnBnfbYMwOPRMVpz-M46UDI",
     "timestamp": 1623112847842
    }
   ],
   "collapsed_sections": []
  },
  "kernelspec": {
   "name": "python3",
   "display_name": "Python 3.8.2 64-bit ('venv': venv)"
  },
  "language_info": {
   "codemirror_mode": {
    "name": "ipython",
    "version": 3
   },
   "file_extension": ".py",
   "mimetype": "text/x-python",
   "name": "python",
   "nbconvert_exporter": "python",
   "pygments_lexer": "ipython3",
   "version": "3.8.2"
  },
  "interpreter": {
   "hash": "5be7e71d11e17bdda497de2f4bde7f7a5e0bf73a48e19b1dd970d45adec094a2"
  }
 },
 "cells": [
  {
   "cell_type": "code",
   "metadata": {
    "id": "C_w7ahrlQYhI",
    "executionInfo": {
     "status": "ok",
     "timestamp": 1623299752216,
     "user_tz": 420,
     "elapsed": 2184,
     "user": {
      "displayName": "Irmuun Zamilan",
      "photoUrl": "",
      "userId": "07934676947295100172"
     }
    }
   },
   "source": [
    "import numpy as np\n",
    "from tensorflow import keras\n",
    "from tensorflow.keras import layers as kl\n",
    "import random\n",
    "from pickle import load"
   ],
   "execution_count": 1,
   "outputs": []
  },
  {
   "cell_type": "code",
   "metadata": {
    "id": "19cim11QVF0G",
    "executionInfo": {
     "status": "ok",
     "timestamp": 1623299789079,
     "user_tz": 420,
     "elapsed": 2382,
     "user": {
      "displayName": "Irmuun Zamilan",
      "photoUrl": "",
      "userId": "07934676947295100172"
     }
    }
   },
   "source": [
    "with open('data/winning_data.pkl', 'rb') as f:\n",
    "    f.seek(0)\n",
    "    winning_data = load(f)\n",
    "with open('data/indextocard.pkl', 'rb') as f:\n",
    "    f.seek(0)\n",
    "    card_index = load(f)\n",
    "with open('data/cardtoindex.pkl', 'rb') as f:\n",
    "    f.seek(0)\n",
    "    card_dict = load(f)"
   ],
   "execution_count": 2,
   "outputs": []
  },
  {
   "cell_type": "code",
   "metadata": {
    "colab": {
     "base_uri": "https://localhost:8080/"
    },
    "id": "ZKsQPXesVR9q",
    "executionInfo": {
     "status": "ok",
     "timestamp": 1623299791634,
     "user_tz": 420,
     "elapsed": 21,
     "user": {
      "displayName": "Irmuun Zamilan",
      "photoUrl": "",
      "userId": "07934676947295100172"
     }
    },
    "outputId": "379541c2-0245-4d77-a85f-810455027b58"
   },
   "source": [
    "print(len(winning_data))"
   ],
   "execution_count": 3,
   "outputs": [
    {
     "output_type": "stream",
     "name": "stdout",
     "text": [
      "44373\n"
     ]
    }
   ]
  },
  {
   "cell_type": "code",
   "metadata": {
    "id": "oG1z4m5JVhZn",
    "executionInfo": {
     "status": "ok",
     "timestamp": 1623299793095,
     "user_tz": 420,
     "elapsed": 155,
     "user": {
      "displayName": "Irmuun Zamilan",
      "photoUrl": "",
      "userId": "07934676947295100172"
     }
    }
   },
   "source": [
    "def datasetup(draft):\n",
    "    cards = 0\n",
    "    alldrafted = np.zeros(343, np.int8)\n",
    "    maindeck = np.zeros(343, np.int8)\n",
    "    for key,value in draft.items():\n",
    "        if key.startswith(\"main_\"):\n",
    "            cards = cards + int(value)\n",
    "            card = key.split(\"main_\")[1]\n",
    "            maindeck[int(card_dict[card])] = value\n",
    "        if key.startswith(\"draft_\"):\n",
    "            card = key.split(\"draft_\")[1]\n",
    "            alldrafted[int(card_dict[card])] = value\n",
    "    return cards, alldrafted, maindeck"
   ],
   "execution_count": 4,
   "outputs": []
  },
  {
   "cell_type": "code",
   "metadata": {
    "id": "VE3qhoesVjg3",
    "executionInfo": {
     "status": "ok",
     "timestamp": 1623299794616,
     "user_tz": 420,
     "elapsed": 353,
     "user": {
      "displayName": "Irmuun Zamilan",
      "photoUrl": "",
      "userId": "07934676947295100172"
     }
    }
   },
   "source": [
    "def getremovedcards(deck, draft):\n",
    "    removedlist = []\n",
    "    draftlist = []\n",
    "    for index, value in enumerate(deck):\n",
    "        for i in range(0, value):\n",
    "            array = np.zeros(343, np.int8)\n",
    "            array[index] = 1\n",
    "            removedlist.append(array)\n",
    "            draftlist.append(draft)\n",
    "    removedlist = np.array(removedlist) \n",
    "    draftlist = np.array(draftlist) \n",
    "    return removedlist, draftlist"
   ],
   "execution_count": 5,
   "outputs": []
  },
  {
   "cell_type": "code",
   "metadata": {
    "id": "5nobjhDfDSTA",
    "executionInfo": {
     "status": "ok",
     "timestamp": 1623299795942,
     "user_tz": 420,
     "elapsed": 203,
     "user": {
      "displayName": "Irmuun Zamilan",
      "photoUrl": "",
      "userId": "07934676947295100172"
     }
    }
   },
   "source": [
    "def removerandomcards(deck):\n",
    "  copy_deck = np.zeros(343)\n",
    "  for index, value in enumerate(deck):\n",
    "    if value > 0 and random.random() > 0.25:\n",
    "      copy_deck[index] = copy_deck[index] + random.randint(0, value)\n",
    "  return copy_deck"
   ],
   "execution_count": 6,
   "outputs": []
  },
  {
   "cell_type": "code",
   "metadata": {
    "id": "-LwRTdnqbB6h",
    "executionInfo": {
     "status": "ok",
     "timestamp": 1623299797367,
     "user_tz": 420,
     "elapsed": 165,
     "user": {
      "displayName": "Irmuun Zamilan",
      "photoUrl": "",
      "userId": "07934676947295100172"
     }
    }
   },
   "source": [
    "def printcards(deck):\n",
    "    for index, card in enumerate(deck):\n",
    "        if card > 0:\n",
    "            print(card_index[index] + \", \" + str(card))"
   ],
   "execution_count": 7,
   "outputs": []
  },
  {
   "cell_type": "code",
   "metadata": {
    "id": "vv1uty-xgJDn",
    "executionInfo": {
     "status": "ok",
     "timestamp": 1623299798282,
     "user_tz": 420,
     "elapsed": 4,
     "user": {
      "displayName": "Irmuun Zamilan",
      "photoUrl": "",
      "userId": "07934676947295100172"
     }
    }
   },
   "source": [
    "def specialround(deck, draft):\n",
    "  copydeck = deck.copy()\n",
    "  for index, value in enumerate(copydeck):\n",
    "    if value < 0.5:\n",
    "      copydeck[index] = 0\n",
    "    else:\n",
    "      copydeck[index] = min(np.ceil(value), draft[index])\n",
    "  return copydeck"
   ],
   "execution_count": 8,
   "outputs": []
  },
  {
   "cell_type": "code",
   "metadata": {
    "id": "Unhwm5bPfUwt",
    "executionInfo": {
     "status": "ok",
     "timestamp": 1623299799513,
     "user_tz": 420,
     "elapsed": 175,
     "user": {
      "displayName": "Irmuun Zamilan",
      "photoUrl": "",
      "userId": "07934676947295100172"
     }
    }
   },
   "source": [
    "def totalcards(deck):\n",
    "  x = 0\n",
    "  for i in deck:\n",
    "    x += i\n",
    "  return x"
   ],
   "execution_count": 9,
   "outputs": []
  },
  {
   "cell_type": "code",
   "metadata": {
    "id": "fRtOqCrS5i-H",
    "executionInfo": {
     "status": "ok",
     "timestamp": 1623299800683,
     "user_tz": 420,
     "elapsed": 211,
     "user": {
      "displayName": "Irmuun Zamilan",
      "photoUrl": "",
      "userId": "07934676947295100172"
     }
    }
   },
   "source": [
    "def calcaccuracy(pred, main):\n",
    "  diff = 0\n",
    "  total = 0\n",
    "  for index, value in enumerate(pred):\n",
    "    if value != main[index]:\n",
    "      diff += abs(value - main[index])\n",
    "    total += main[index]\n",
    "  return 1 - diff/total"
   ],
   "execution_count": 9,
   "outputs": []
  },
  {
   "cell_type": "code",
   "metadata": {
    "id": "S7KvTCf6dHho",
    "executionInfo": {
     "status": "ok",
     "timestamp": 1623299801471,
     "user_tz": 420,
     "elapsed": 12,
     "user": {
      "displayName": "Irmuun Zamilan",
      "photoUrl": "",
      "userId": "07934676947295100172"
     }
    }
   },
   "source": [
    "def exporttodraft(deckexport):\n",
    "  draft = np.zeros(343)\n",
    "  maindeck = np.zeros(343)\n",
    "  includemain = True\n",
    "  for index, value in enumerate(deckexport):\n",
    "    if value.startswith('Sideboard'):\n",
    "      includemain = False\n",
    "    split = value.split(\" \", 1)\n",
    "    if len(split) == 2:\n",
    "      name = split[1].split(\"(\", 1)\n",
    "      card_name = name[0].strip()\n",
    "      if card_name == \"Mountain\" or card_name == \"Island\" or card_name == \"Plains\" or card_name == \"Swamp\" or card_name == \"Forest\":\n",
    "        continue\n",
    "      cardindex = card_dict[card_name]\n",
    "      draft[cardindex] = draft[cardindex] + int(split[0])\n",
    "      if includemain:\n",
    "        maindeck[cardindex] = maindeck[cardindex] + int(split[0])\n",
    "  return draft, maindeck"
   ],
   "execution_count": 10,
   "outputs": []
  },
  {
   "cell_type": "code",
   "metadata": {
    "colab": {
     "base_uri": "https://localhost:8080/"
    },
    "id": "egSUyZqManDU",
    "executionInfo": {
     "status": "ok",
     "timestamp": 1623299805673,
     "user_tz": 420,
     "elapsed": 246,
     "user": {
      "displayName": "Irmuun Zamilan",
      "photoUrl": "",
      "userId": "07934676947295100172"
     }
    },
    "outputId": "38de71fc-6788-4ee1-a583-a7e5e0ac6f28"
   },
   "source": [
    "cardcount, alldrafted, removedmain = datasetup(winning_data[1])\n",
    "remo = removerandomcards(removedmain)\n",
    "printcards(remo)\n",
    "print(\"---------------\")\n",
    "printcards(removedmain)\n",
    "print(removedmain.shape)\n",
    "concat = np.concatenate((removedmain, remo))\n",
    "print(concat.shape)"
   ],
   "execution_count": 11,
   "outputs": [
    {
     "output_type": "stream",
     "name": "stdout",
     "text": [
      "Extus, Oriq Overlord, 1.0\nSilverquill Pledgemage, 1.0\nStar Pupil, 2.0\nUnwilling Ingredient, 1.0\n---------------\nClosing Statement, 1\nCombat Professor, 1\nDramatic Finale, 1\nExtus, Oriq Overlord, 1\nEyetwitch, 1\nHall of Oracles, 1\nHunt for Specimens, 1\nOwlin Shieldmage, 1\nRise of Extus, 3\nSilverquill Apprentice, 1\nSilverquill Campus, 1\nSilverquill Pledgemage, 1\nStar Pupil, 5\nStonerise Spirit, 2\nStudy Break, 1\nTenured Inkcaster, 2\nUnwilling Ingredient, 1\n(343,)\n(686,)\n"
     ]
    }
   ]
  },
  {
   "cell_type": "code",
   "metadata": {
    "colab": {
     "base_uri": "https://localhost:8080/",
     "height": 305
    },
    "id": "yIkZSb9UVNlD",
    "executionInfo": {
     "status": "error",
     "timestamp": 1623299812674,
     "user_tz": 420,
     "elapsed": 306,
     "user": {
      "displayName": "Irmuun Zamilan",
      "photoUrl": "",
      "userId": "07934676947295100172"
     }
    },
    "outputId": "9914b282-e1f1-49c6-c5f2-c9bea174bdde"
   },
   "source": [
    "npp = np.load('data/' + str(1) + '.npy')\n",
    "print(npp[1][0])"
   ],
   "execution_count": 12,
   "outputs": [
    {
     "output_type": "stream",
     "name": "stdout",
     "text": [
      "[0 0 0 0 0 0 0 0 0 0 0 0 0 0 0 0 0 0 0 0 0 0 0 0 0 0 0 0 0 0 0 0 0 0 0 0 0\n 0 0 0 0 0 0 1 0 0 1 0 0 0 0 0 0 0 0 0 0 0 0 0 0 0 0 0 0 0 0 0 0 0 0 0 0 0\n 0 0 0 0 0 0 0 0 1 0 0 0 0 0 0 0 0 0 0 0 0 0 0 0 0 0 0 0 0 0 0 0 0 0 1 1 0\n 0 0 0 0 0 0 0 0 0 0 0 0 0 0 0 0 0 0 0 0 0 0 0 0 1 0 0 0 0 0 0 1 0 0 0 0 0\n 0 0 0 0 0 0 0 0 0 0 0 0 0 0 0 0 0 0 0 0 0 0 0 0 0 0 0 0 0 0 0 0 0 0 0 0 0\n 0 0 0 0 0 0 0 0 0 0 0 0 0 0 0 0 0 0 0 0 0 1 0 0 0 0 0 0 0 0 0 0 0 0 0 0 0\n 0 0 0 0 0 0 0 0 0 0 0 0 0 0 0 0 0 0 0 0 0 0 0 0 0 0 0 3 0 0 0 0 0 0 0 0 0\n 0 0 0 0 0 0 0 1 1 0 1 0 0 0 0 0 0 0 0 0 0 0 0 0 0 5 0 0 0 0 2 0 0 0 0 1 0\n 0 0 0 0 0 0 0 0 0 0 0 0 0 2 0 0 0 0 0 0 0 0 0 0 0 1 0 0 0 0 0 0 0 0 0 0 0\n 0 0 0 0 0 0 0 0 0 0]\n"
     ]
    }
   ]
  },
  {
   "cell_type": "code",
   "metadata": {
    "id": "1i1x4_RPQYhR"
   },
   "source": [
    "class DataGenerator(keras.utils.Sequence):\n",
    "    \"\"\"Generates data for Keras\"\"\"\n",
    "\n",
    "    def __init__(self, start, end, batch_size, shuffle=False):\n",
    "        \"\"\"Initialization\"\"\"\n",
    "        self.data_indexes = np.arange(start, end)\n",
    "        self.batch_size = batch_size\n",
    "        self.shuffle = shuffle\n",
    "        self.on_epoch_end()\n",
    "\n",
    "    def __len__(self):\n",
    "        \"\"\"Denotes the number of batches per epoch\"\"\"\n",
    "        return int(np.floor(len(self.data_indexes) / self.batch_size))\n",
    "\n",
    "    def __getitem__(self, index):\n",
    "        \"\"\"Generate one batch of data\"\"\"\n",
    "\n",
    "        indexes = self.data_indexes[index*self.batch_size:(index+1)*self.batch_size]\n",
    "\n",
    "        X = np.empty((self.batch_size, 343))\n",
    "        y = np.empty((self.batch_size, 343))\n",
    "\n",
    "        # Generate data\n",
    "        for i, ID in enumerate(indexes):\n",
    "            npp = np.load('data/' + str(ID) + '.npy')\n",
    "            y[i] = npp[1][0]\n",
    "            X[i] = npp[0][0]\n",
    "\n",
    "        return X, y\n",
    "\n",
    "    def on_epoch_end(self):\n",
    "        \"\"\"Updates indexes after each epoch\"\"\"\n",
    "        if self.shuffle:\n",
    "            np.random.shuffle(self.data_indexes)"
   ],
   "execution_count": 13,
   "outputs": []
  },
  {
   "cell_type": "code",
   "metadata": {
    "colab": {
     "base_uri": "https://localhost:8080/"
    },
    "id": "on8fRuQYQYh4",
    "outputId": "c2ee9dba-2715-4814-c83f-e0be3a8b9dfd"
   },
   "source": [
    "model = keras.Sequential()\n",
    "\n",
    "model.add(kl.Dense(343, input_shape=(343, ), activation = 'relu'))\n",
    "model.add(kl.BatchNormalization())\n",
    "model.add(kl.Dense(343, activation = 'relu'))\n",
    "model.add(kl.BatchNormalization())\n",
    "model.add(kl.Dense(343, activation = 'relu'))\n",
    "model.add(kl.BatchNormalization())\n",
    "model.add(kl.Dense(343, activation = 'relu'))\n",
    "model.add(kl.BatchNormalization())\n",
    "model.add(kl.Dense(343, activation = 'relu'))\n",
    "model.add(kl.BatchNormalization())\n",
    "model.add(kl.Dense(343, activation = 'relu'))\n",
    "model.add(kl.BatchNormalization())\n",
    "model.add(kl.Dense(343, activation = 'relu'))\n",
    "\n",
    "# Used to further train a saved model\n",
    "# model = keras.models.load_model(\"MainDeckModel.h5\")\n",
    "\n",
    "print(model.summary(90))\n",
    "\n",
    "metric = keras.metrics.MeanAbsoluteError(name=\"mean_absolute_error\", dtype=None)\n",
    "model.compile(loss='mean_squared_error',\n",
    "              optimizer='adam', metrics=[metric])\n",
    "\n",
    "data_gen = DataGenerator(0, 38400, 32, shuffle=True)\n",
    "valid_gen = DataGenerator(38400, 44373, 32)\n",
    "\n",
    "my_callbacks = [\n",
    "    keras.callbacks.EarlyStopping(patience=5),\n",
    "    keras.callbacks.ModelCheckpoint(filepath=\"MainDeckModel.h5\",\n",
    "                                    save_best_only=True),\n",
    "]\n",
    "\n",
    "model.fit(data_gen, steps_per_epoch=1200, epochs=50, validation_data=valid_gen, validation_steps=186,\n",
    "          callbacks=my_callbacks, shuffle=False)"
   ],
   "execution_count": 14,
   "outputs": [
    {
     "output_type": "stream",
     "name": "stdout",
     "text": [
      "Model: \"sequential\"\n",
      "__________________________________________________________________________________________\n",
      "Layer (type)                            Output Shape                        Param #       \n",
      "==========================================================================================\n",
      "dense (Dense)                           (None, 343)                         117992        \n",
      "__________________________________________________________________________________________\n",
      "batch_normalization (BatchNormalization (None, 343)                         1372          \n",
      "__________________________________________________________________________________________\n",
      "dense_1 (Dense)                         (None, 343)                         117992        \n",
      "__________________________________________________________________________________________\n",
      "batch_normalization_1 (BatchNormalizati (None, 343)                         1372          \n",
      "__________________________________________________________________________________________\n",
      "dense_2 (Dense)                         (None, 343)                         117992        \n",
      "__________________________________________________________________________________________\n",
      "batch_normalization_2 (BatchNormalizati (None, 343)                         1372          \n",
      "__________________________________________________________________________________________\n",
      "dense_3 (Dense)                         (None, 343)                         117992        \n",
      "__________________________________________________________________________________________\n",
      "batch_normalization_3 (BatchNormalizati (None, 343)                         1372          \n",
      "__________________________________________________________________________________________\n",
      "dense_4 (Dense)                         (None, 343)                         117992        \n",
      "__________________________________________________________________________________________\n",
      "batch_normalization_4 (BatchNormalizati (None, 343)                         1372          \n",
      "__________________________________________________________________________________________\n",
      "dense_5 (Dense)                         (None, 343)                         117992        \n",
      "__________________________________________________________________________________________\n",
      "batch_normalization_5 (BatchNormalizati (None, 343)                         1372          \n",
      "__________________________________________________________________________________________\n",
      "dense_6 (Dense)                         (None, 343)                         117992        \n",
      "==========================================================================================\n",
      "Total params: 834,176\n",
      "Trainable params: 830,060\n",
      "Non-trainable params: 4,116\n",
      "__________________________________________________________________________________________\n",
      "None\n",
      "Epoch 1/50\n",
      "1200/1200 [==============================] - 356s 293ms/step - loss: 0.0649 - mean_absolute_error: 0.0772 - val_loss: 0.0406 - val_mean_absolute_error: 0.0498\n",
      "Epoch 2/50\n",
      "1200/1200 [==============================] - 35s 29ms/step - loss: 0.0380 - mean_absolute_error: 0.0482 - val_loss: 0.0324 - val_mean_absolute_error: 0.0417\n",
      "Epoch 3/50\n",
      "1200/1200 [==============================] - 34s 28ms/step - loss: 0.0323 - mean_absolute_error: 0.0427 - val_loss: 0.0290 - val_mean_absolute_error: 0.0379\n",
      "Epoch 4/50\n",
      "1200/1200 [==============================] - 33s 27ms/step - loss: 0.0292 - mean_absolute_error: 0.0398 - val_loss: 0.0263 - val_mean_absolute_error: 0.0352\n",
      "Epoch 5/50\n",
      "1030/1200 [========================>.....] - ETA: 4s - loss: 0.0273 - mean_absolute_error: 0.0378"
     ]
    },
    {
     "output_type": "error",
     "ename": "KeyboardInterrupt",
     "evalue": "",
     "traceback": [
      "\u001b[1;31m---------------------------------------------------------------------------\u001b[0m",
      "\u001b[1;31mKeyboardInterrupt\u001b[0m                         Traceback (most recent call last)",
      "\u001b[1;32m<ipython-input-14-55cd10db4fd5>\u001b[0m in \u001b[0;36m<module>\u001b[1;34m\u001b[0m\n\u001b[0;32m     33\u001b[0m ]\n\u001b[0;32m     34\u001b[0m \u001b[1;33m\u001b[0m\u001b[0m\n\u001b[1;32m---> 35\u001b[1;33m model.fit(data_gen, steps_per_epoch=1200, epochs=50, validation_data=valid_gen, validation_steps=186,\n\u001b[0m\u001b[0;32m     36\u001b[0m           callbacks=my_callbacks, shuffle=False)\n",
      "\u001b[1;32mc:\\Users\\Irmuun\\PycharmProjects\\MTGMaindeckML\\venv\\lib\\site-packages\\tensorflow\\python\\keras\\engine\\training.py\u001b[0m in \u001b[0;36mfit\u001b[1;34m(self, x, y, batch_size, epochs, verbose, callbacks, validation_split, validation_data, shuffle, class_weight, sample_weight, initial_epoch, steps_per_epoch, validation_steps, validation_batch_size, validation_freq, max_queue_size, workers, use_multiprocessing)\u001b[0m\n\u001b[0;32m   1181\u001b[0m                 _r=1):\n\u001b[0;32m   1182\u001b[0m               \u001b[0mcallbacks\u001b[0m\u001b[1;33m.\u001b[0m\u001b[0mon_train_batch_begin\u001b[0m\u001b[1;33m(\u001b[0m\u001b[0mstep\u001b[0m\u001b[1;33m)\u001b[0m\u001b[1;33m\u001b[0m\u001b[1;33m\u001b[0m\u001b[0m\n\u001b[1;32m-> 1183\u001b[1;33m               \u001b[0mtmp_logs\u001b[0m \u001b[1;33m=\u001b[0m \u001b[0mself\u001b[0m\u001b[1;33m.\u001b[0m\u001b[0mtrain_function\u001b[0m\u001b[1;33m(\u001b[0m\u001b[0miterator\u001b[0m\u001b[1;33m)\u001b[0m\u001b[1;33m\u001b[0m\u001b[1;33m\u001b[0m\u001b[0m\n\u001b[0m\u001b[0;32m   1184\u001b[0m               \u001b[1;32mif\u001b[0m \u001b[0mdata_handler\u001b[0m\u001b[1;33m.\u001b[0m\u001b[0mshould_sync\u001b[0m\u001b[1;33m:\u001b[0m\u001b[1;33m\u001b[0m\u001b[1;33m\u001b[0m\u001b[0m\n\u001b[0;32m   1185\u001b[0m                 \u001b[0mcontext\u001b[0m\u001b[1;33m.\u001b[0m\u001b[0masync_wait\u001b[0m\u001b[1;33m(\u001b[0m\u001b[1;33m)\u001b[0m\u001b[1;33m\u001b[0m\u001b[1;33m\u001b[0m\u001b[0m\n",
      "\u001b[1;32mc:\\Users\\Irmuun\\PycharmProjects\\MTGMaindeckML\\venv\\lib\\site-packages\\tensorflow\\python\\eager\\def_function.py\u001b[0m in \u001b[0;36m__call__\u001b[1;34m(self, *args, **kwds)\u001b[0m\n\u001b[0;32m    887\u001b[0m \u001b[1;33m\u001b[0m\u001b[0m\n\u001b[0;32m    888\u001b[0m       \u001b[1;32mwith\u001b[0m \u001b[0mOptionalXlaContext\u001b[0m\u001b[1;33m(\u001b[0m\u001b[0mself\u001b[0m\u001b[1;33m.\u001b[0m\u001b[0m_jit_compile\u001b[0m\u001b[1;33m)\u001b[0m\u001b[1;33m:\u001b[0m\u001b[1;33m\u001b[0m\u001b[1;33m\u001b[0m\u001b[0m\n\u001b[1;32m--> 889\u001b[1;33m         \u001b[0mresult\u001b[0m \u001b[1;33m=\u001b[0m \u001b[0mself\u001b[0m\u001b[1;33m.\u001b[0m\u001b[0m_call\u001b[0m\u001b[1;33m(\u001b[0m\u001b[1;33m*\u001b[0m\u001b[0margs\u001b[0m\u001b[1;33m,\u001b[0m \u001b[1;33m**\u001b[0m\u001b[0mkwds\u001b[0m\u001b[1;33m)\u001b[0m\u001b[1;33m\u001b[0m\u001b[1;33m\u001b[0m\u001b[0m\n\u001b[0m\u001b[0;32m    890\u001b[0m \u001b[1;33m\u001b[0m\u001b[0m\n\u001b[0;32m    891\u001b[0m       \u001b[0mnew_tracing_count\u001b[0m \u001b[1;33m=\u001b[0m \u001b[0mself\u001b[0m\u001b[1;33m.\u001b[0m\u001b[0mexperimental_get_tracing_count\u001b[0m\u001b[1;33m(\u001b[0m\u001b[1;33m)\u001b[0m\u001b[1;33m\u001b[0m\u001b[1;33m\u001b[0m\u001b[0m\n",
      "\u001b[1;32mc:\\Users\\Irmuun\\PycharmProjects\\MTGMaindeckML\\venv\\lib\\site-packages\\tensorflow\\python\\eager\\def_function.py\u001b[0m in \u001b[0;36m_call\u001b[1;34m(self, *args, **kwds)\u001b[0m\n\u001b[0;32m    915\u001b[0m       \u001b[1;31m# In this case we have created variables on the first call, so we run the\u001b[0m\u001b[1;33m\u001b[0m\u001b[1;33m\u001b[0m\u001b[1;33m\u001b[0m\u001b[0m\n\u001b[0;32m    916\u001b[0m       \u001b[1;31m# defunned version which is guaranteed to never create variables.\u001b[0m\u001b[1;33m\u001b[0m\u001b[1;33m\u001b[0m\u001b[1;33m\u001b[0m\u001b[0m\n\u001b[1;32m--> 917\u001b[1;33m       \u001b[1;32mreturn\u001b[0m \u001b[0mself\u001b[0m\u001b[1;33m.\u001b[0m\u001b[0m_stateless_fn\u001b[0m\u001b[1;33m(\u001b[0m\u001b[1;33m*\u001b[0m\u001b[0margs\u001b[0m\u001b[1;33m,\u001b[0m \u001b[1;33m**\u001b[0m\u001b[0mkwds\u001b[0m\u001b[1;33m)\u001b[0m  \u001b[1;31m# pylint: disable=not-callable\u001b[0m\u001b[1;33m\u001b[0m\u001b[1;33m\u001b[0m\u001b[0m\n\u001b[0m\u001b[0;32m    918\u001b[0m     \u001b[1;32melif\u001b[0m \u001b[0mself\u001b[0m\u001b[1;33m.\u001b[0m\u001b[0m_stateful_fn\u001b[0m \u001b[1;32mis\u001b[0m \u001b[1;32mnot\u001b[0m \u001b[1;32mNone\u001b[0m\u001b[1;33m:\u001b[0m\u001b[1;33m\u001b[0m\u001b[1;33m\u001b[0m\u001b[0m\n\u001b[0;32m    919\u001b[0m       \u001b[1;31m# Release the lock early so that multiple threads can perform the call\u001b[0m\u001b[1;33m\u001b[0m\u001b[1;33m\u001b[0m\u001b[1;33m\u001b[0m\u001b[0m\n",
      "\u001b[1;32mc:\\Users\\Irmuun\\PycharmProjects\\MTGMaindeckML\\venv\\lib\\site-packages\\tensorflow\\python\\eager\\function.py\u001b[0m in \u001b[0;36m__call__\u001b[1;34m(self, *args, **kwargs)\u001b[0m\n\u001b[0;32m   3021\u001b[0m       (graph_function,\n\u001b[0;32m   3022\u001b[0m        filtered_flat_args) = self._maybe_define_function(args, kwargs)\n\u001b[1;32m-> 3023\u001b[1;33m     return graph_function._call_flat(\n\u001b[0m\u001b[0;32m   3024\u001b[0m         filtered_flat_args, captured_inputs=graph_function.captured_inputs)  # pylint: disable=protected-access\n\u001b[0;32m   3025\u001b[0m \u001b[1;33m\u001b[0m\u001b[0m\n",
      "\u001b[1;32mc:\\Users\\Irmuun\\PycharmProjects\\MTGMaindeckML\\venv\\lib\\site-packages\\tensorflow\\python\\eager\\function.py\u001b[0m in \u001b[0;36m_call_flat\u001b[1;34m(self, args, captured_inputs, cancellation_manager)\u001b[0m\n\u001b[0;32m   1958\u001b[0m         and executing_eagerly):\n\u001b[0;32m   1959\u001b[0m       \u001b[1;31m# No tape is watching; skip to running the function.\u001b[0m\u001b[1;33m\u001b[0m\u001b[1;33m\u001b[0m\u001b[1;33m\u001b[0m\u001b[0m\n\u001b[1;32m-> 1960\u001b[1;33m       return self._build_call_outputs(self._inference_function.call(\n\u001b[0m\u001b[0;32m   1961\u001b[0m           ctx, args, cancellation_manager=cancellation_manager))\n\u001b[0;32m   1962\u001b[0m     forward_backward = self._select_forward_and_backward_functions(\n",
      "\u001b[1;32mc:\\Users\\Irmuun\\PycharmProjects\\MTGMaindeckML\\venv\\lib\\site-packages\\tensorflow\\python\\eager\\function.py\u001b[0m in \u001b[0;36mcall\u001b[1;34m(self, ctx, args, cancellation_manager)\u001b[0m\n\u001b[0;32m    589\u001b[0m       \u001b[1;32mwith\u001b[0m \u001b[0m_InterpolateFunctionError\u001b[0m\u001b[1;33m(\u001b[0m\u001b[0mself\u001b[0m\u001b[1;33m)\u001b[0m\u001b[1;33m:\u001b[0m\u001b[1;33m\u001b[0m\u001b[1;33m\u001b[0m\u001b[0m\n\u001b[0;32m    590\u001b[0m         \u001b[1;32mif\u001b[0m \u001b[0mcancellation_manager\u001b[0m \u001b[1;32mis\u001b[0m \u001b[1;32mNone\u001b[0m\u001b[1;33m:\u001b[0m\u001b[1;33m\u001b[0m\u001b[1;33m\u001b[0m\u001b[0m\n\u001b[1;32m--> 591\u001b[1;33m           outputs = execute.execute(\n\u001b[0m\u001b[0;32m    592\u001b[0m               \u001b[0mstr\u001b[0m\u001b[1;33m(\u001b[0m\u001b[0mself\u001b[0m\u001b[1;33m.\u001b[0m\u001b[0msignature\u001b[0m\u001b[1;33m.\u001b[0m\u001b[0mname\u001b[0m\u001b[1;33m)\u001b[0m\u001b[1;33m,\u001b[0m\u001b[1;33m\u001b[0m\u001b[1;33m\u001b[0m\u001b[0m\n\u001b[0;32m    593\u001b[0m               \u001b[0mnum_outputs\u001b[0m\u001b[1;33m=\u001b[0m\u001b[0mself\u001b[0m\u001b[1;33m.\u001b[0m\u001b[0m_num_outputs\u001b[0m\u001b[1;33m,\u001b[0m\u001b[1;33m\u001b[0m\u001b[1;33m\u001b[0m\u001b[0m\n",
      "\u001b[1;32mc:\\Users\\Irmuun\\PycharmProjects\\MTGMaindeckML\\venv\\lib\\site-packages\\tensorflow\\python\\eager\\execute.py\u001b[0m in \u001b[0;36mquick_execute\u001b[1;34m(op_name, num_outputs, inputs, attrs, ctx, name)\u001b[0m\n\u001b[0;32m     57\u001b[0m   \u001b[1;32mtry\u001b[0m\u001b[1;33m:\u001b[0m\u001b[1;33m\u001b[0m\u001b[1;33m\u001b[0m\u001b[0m\n\u001b[0;32m     58\u001b[0m     \u001b[0mctx\u001b[0m\u001b[1;33m.\u001b[0m\u001b[0mensure_initialized\u001b[0m\u001b[1;33m(\u001b[0m\u001b[1;33m)\u001b[0m\u001b[1;33m\u001b[0m\u001b[1;33m\u001b[0m\u001b[0m\n\u001b[1;32m---> 59\u001b[1;33m     tensors = pywrap_tfe.TFE_Py_Execute(ctx._handle, device_name, op_name,\n\u001b[0m\u001b[0;32m     60\u001b[0m                                         inputs, attrs, num_outputs)\n\u001b[0;32m     61\u001b[0m   \u001b[1;32mexcept\u001b[0m \u001b[0mcore\u001b[0m\u001b[1;33m.\u001b[0m\u001b[0m_NotOkStatusException\u001b[0m \u001b[1;32mas\u001b[0m \u001b[0me\u001b[0m\u001b[1;33m:\u001b[0m\u001b[1;33m\u001b[0m\u001b[1;33m\u001b[0m\u001b[0m\n",
      "\u001b[1;31mKeyboardInterrupt\u001b[0m: "
     ]
    }
   ]
  },
  {
   "cell_type": "code",
   "metadata": {
    "id": "EA0kLyjMe7GN"
   },
   "source": [
    "model = keras.models.load_model(\"MainDeckModel.h5\")\n",
    "valid_gen = DataGenerator(38400, 44373, 32)\n",
    "result = model.predict(valid_gen)"
   ],
   "execution_count": 15,
   "outputs": []
  },
  {
   "cell_type": "code",
   "metadata": {
    "colab": {
     "base_uri": "https://localhost:8080/"
    },
    "id": "_t3uxcv69KW6",
    "executionInfo": {
     "status": "ok",
     "timestamp": 1623294360164,
     "user_tz": 420,
     "elapsed": 6984,
     "user": {
      "displayName": "Irmuun Zamilan",
      "photoUrl": "",
      "userId": "07934676947295100172"
     }
    },
    "outputId": "8086d3a9-cade-4a17-e845-cc8213af8bc1"
   },
   "source": [
    "totalacc = 0\n",
    "for index, value in enumerate(result):\n",
    "  nppp = np.load('data/' + str(index + 38400) + '.npy')\n",
    "  totalacc += calcaccuracy(specialround(value, nppp[0][0]), nppp[1][0])\n",
    "print(totalacc/len(result))"
   ],
   "execution_count": 16,
   "outputs": [
    {
     "output_type": "stream",
     "name": "stdout",
     "text": [
      "0.6733529238565147\n"
     ]
    }
   ]
  },
  {
   "cell_type": "code",
   "execution_count": null,
   "metadata": {},
   "outputs": [],
   "source": []
  }
 ]
}